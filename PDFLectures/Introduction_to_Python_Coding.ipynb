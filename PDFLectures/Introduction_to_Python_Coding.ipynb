{
 "cells": [
  {
   "cell_type": "markdown",
   "metadata": {},
   "source": [
    "# Python program structure\n",
    "When there is a task/problem we would like to computer to achieve/solve for us, we write the solution in the form of a program. When this program is executed on the computer, the task/problem is achieved/solved. In short we say we are coding/programming.\n",
    "The code hierarchy in Python is as follows: \n",
    "1. Programs consist of one or more modules.\n",
    "2. Modules contain python instructions/statements and comments(preceded by #). \n",
    "3. Statements contain special commands(keywords) and/or expressions.\n",
    "4. Expressions either create or process data"
   ]
  },
  {
   "cell_type": "markdown",
   "metadata": {},
   "source": [
    "# Coding options\n",
    "1. Command prompt\n",
    "In interactive mode, Python expects instructions and/or expressions. It processes the instruction and/or evaluates the expression, then displays the outcome.\n",
    "2. Interactive Development Environment (IDE) for example pycharm\n",
    "IDEs are meant for writing Python programs. The output is only seen after writing and running the program.\n",
    "3. Jupyter notebooks allow python execution within a webpage for use in interactive presentations. See an example of cell with Python code below:"
   ]
  },
  {
   "cell_type": "code",
   "execution_count": null,
   "metadata": {},
   "outputs": [],
   "source": [
    "print(\"Hello world!\")"
   ]
  },
  {
   "cell_type": "markdown",
   "metadata": {},
   "source": [
    "# Variables\n",
    "Variables are entities that allow computers to store a (simple or compound) data value.\n",
    "Every variable should have a name and a value. Values are assigned values using = operator; such assignments take place from right to left. Variables in Python exist from the line of first use and they are not restricted to one particular data type. This is know as their scope."
   ]
  },
  {
   "cell_type": "code",
   "execution_count": null,
   "metadata": {},
   "outputs": [],
   "source": [
    "a = 4\n",
    "print(a)\n",
    "a = input(\"What is your name?\")\n",
    "print(a)"
   ]
  },
  {
   "cell_type": "markdown",
   "metadata": {},
   "source": [
    "The cell above is a sequence of 4 instructions: create a variable with the value 4, display this value, prompt the user for their name and store it in a variable, and display this name.\n",
    "In Python code, data is represented using either variables or literal values. We list some of the basic data types available in Python and give some examples of simple expressions that use them below: \n",
    "## Number - Integers/Floats"
   ]
  },
  {
   "cell_type": "code",
   "execution_count": null,
   "metadata": {},
   "outputs": [],
   "source": [
    "a = 3\n",
    "float(a) #convert 3 to a float, Python displays the value of this expression below:"
   ]
  },
  {
   "cell_type": "code",
   "execution_count": null,
   "metadata": {},
   "outputs": [],
   "source": [
    "f = a/2 #divide 3 by 2.\n",
    "f"
   ]
  },
  {
   "cell_type": "code",
   "execution_count": null,
   "metadata": {},
   "outputs": [],
   "source": [
    "int(f//2) + a**2 - 12%5 * 4 #integer divide 1.5 by 2, raise 3 to the power 2, calculate the remainder from 12/5 => 0 + 9 - 2*4 "
   ]
  },
  {
   "cell_type": "markdown",
   "metadata": {},
   "source": [
    "## Strings"
   ]
  },
  {
   "cell_type": "code",
   "execution_count": null,
   "metadata": {},
   "outputs": [],
   "source": [
    "s = \"hello\"\n",
    "len(s)"
   ]
  },
  {
   "cell_type": "code",
   "execution_count": null,
   "metadata": {},
   "outputs": [],
   "source": [
    "str(f)+' * 2 = '+str(float(a)) #convert float to strings and concatenate using +"
   ]
  },
  {
   "cell_type": "code",
   "execution_count": null,
   "metadata": {},
   "outputs": [],
   "source": [
    "s+\" consists of \"+s[:4]+\" and \"+s[4]"
   ]
  },
  {
   "cell_type": "code",
   "execution_count": null,
   "metadata": {},
   "outputs": [],
   "source": [
    "print(\"hello\\tstring\\ngood\\tto\\tsee\\t\\\\\") #special characters are preceded by \\"
   ]
  },
  {
   "cell_type": "markdown",
   "metadata": {},
   "source": [
    "## Boolean"
   ]
  },
  {
   "cell_type": "code",
   "execution_count": null,
   "metadata": {},
   "outputs": [],
   "source": [
    "b1 = True #b1 is a boolean variable set to True\n",
    "b2 = False\n",
    "b1 and b2 #True and False is False, True and True is True, False and False is False."
   ]
  },
  {
   "cell_type": "code",
   "execution_count": null,
   "metadata": {},
   "outputs": [],
   "source": [
    "b1 or b2 #True or False is True, False or True is True, False or False is False, True or True is True."
   ]
  },
  {
   "cell_type": "code",
   "execution_count": null,
   "metadata": {},
   "outputs": [],
   "source": [
    "1 < 3 #Boolean expressions can also be created using numbers and the operators <, >, <=, >=, and =="
   ]
  },
  {
   "cell_type": "markdown",
   "metadata": {},
   "source": [
    "# Functions\n",
    "Programming basically entails the design and articulation of a sequence of instructions to solve a given problem. Functions are an abstraction of a sequence of instructions, that is written once but can be called/used multiple times."
   ]
  },
  {
   "cell_type": "code",
   "execution_count": null,
   "metadata": {
    "scrolled": true
   },
   "outputs": [],
   "source": [
    "import math\n",
    "def prime(v): #the name of the function is prime\n",
    "    for i in range(2,int(math.sqrt(v)+1)): #repeat each number in the sequence 2, 3, ... sqrt(v)+1.\n",
    "        if v%i == 0:  #do the following instruction only if this expression is True.\n",
    "            return False\n",
    "    return True\n",
    "\n",
    "print(prime(4)) #calling the prime function with 4 as a parameter.\n",
    "print(prime(7))"
   ]
  },
  {
   "cell_type": "code",
   "execution_count": null,
   "metadata": {},
   "outputs": [],
   "source": [
    "def max(x,y):\n",
    "    if x<y:\n",
    "        return y\n",
    "    else:\n",
    "        return x\n",
    "max(2,5)"
   ]
  },
  {
   "cell_type": "markdown",
   "metadata": {
    "collapsed": true
   },
   "source": [
    "Fortunately Python comes with numerous inbuilt functions that we can simply use. We have already encountered the following: math.sqrt(), print(), range(), str(), len(), float(), int() and input().\n",
    "Some variables are designed to such that they contain functions inside them, these kind of functions are called methods. For example, strings have the format method for formatting."
   ]
  },
  {
   "cell_type": "code",
   "execution_count": null,
   "metadata": {},
   "outputs": [],
   "source": [
    "\"{0:<3}, two, {1:<3}\".format(1,3)"
   ]
  },
  {
   "cell_type": "markdown",
   "metadata": {},
   "source": [
    "# Modules\n",
    "Each file with a py suffix is a module. Each module has its own namespace. This is a list of variables that have the module as their scope. The purpose of modules is to store related functions and code for reuse. We have encountered one module so far: math, it stores the sqrt() function along with many other functions. To use a module's contents we have to import them. There are various ways of doing this.\n",
    "1. $import mymodule #brings all elements of mymodule into the current namespace, but we refer to them as mymodule.<element>$\n",
    "2. $import mymodule as mym #brings all elements of mymodule into the current namespace, but we refer to them as mym.<element>$\n",
    "3. $from mymodule import x #brings x from mymodule into the current namespace$\n",
    "4. $from mymodule import * #brings all elements of mymodule into the current namespace$"
   ]
  },
  {
   "cell_type": "markdown",
   "metadata": {},
   "source": [
    "# Compound data types\n",
    "These are data types which allow the storage of multiple values in one variable.\n",
    "## List\n",
    "An orderred collection of data. The individual elements need not be of the same type."
   ]
  },
  {
   "cell_type": "code",
   "execution_count": null,
   "metadata": {},
   "outputs": [],
   "source": [
    "l = [1,2,3,4] #create a list of 4 elements.\n",
    "l[0] #access the element at position 0.\n",
    "l[3] = 5 #modify the last element. Lists are said to be modifiable/mutable.\n",
    "print(l)"
   ]
  },
  {
   "cell_type": "markdown",
   "metadata": {},
   "source": [
    "How do we create lists?\n",
    "1. Manually specifying the sequence of values in the lists as shown in the cell above.\n",
    "2. Using the + operator just like in strings.\n",
    "3. Using the [] to slice lists like strings.\n",
    "4. Using the list() function to convert other data types to lists.\n",
    "5. Using existing methods that create lists, e.g the split() method in strings.\n",
    "6. List comprehensions which construct lists in a manner that is based on mathematical notation for sets and vectors."
   ]
  },
  {
   "cell_type": "code",
   "execution_count": null,
   "metadata": {},
   "outputs": [],
   "source": [
    "l+[6]"
   ]
  },
  {
   "cell_type": "code",
   "execution_count": null,
   "metadata": {},
   "outputs": [],
   "source": [
    "l[::2] #start from beginning, stop at end, sample every second element only."
   ]
  },
  {
   "cell_type": "code",
   "execution_count": null,
   "metadata": {},
   "outputs": [],
   "source": [
    "list(\"hello\")"
   ]
  },
  {
   "cell_type": "code",
   "execution_count": null,
   "metadata": {},
   "outputs": [],
   "source": [
    "\"1,2,3,4,5\".split(',')"
   ]
  },
  {
   "cell_type": "markdown",
   "metadata": {},
   "source": [
    "\n",
    "\\begin{equation}\n",
    "S = \\{x^2 \\ \\forall \\ x \\in \\{0,...,9\\}\\}\n",
    "\\end{equation}\n",
    "\\begin{equation}\n",
    "V = (\\,1,2,4,8,...,2^7)\\,\n",
    "\\end{equation}\n",
    "\\begin{equation}\n",
    "M = \\{x \\mid x \\in S \\land x \\in \\{2a \\ \\forall \\ a \\in \\mathbb{Z} \\} \\}\n",
    "\\end{equation}"
   ]
  },
  {
   "cell_type": "code",
   "execution_count": null,
   "metadata": {},
   "outputs": [],
   "source": [
    "S = [x**2 for x in range(10)]\n",
    "S"
   ]
  },
  {
   "cell_type": "code",
   "execution_count": null,
   "metadata": {},
   "outputs": [],
   "source": [
    "V = [2**i for i in range(8)]\n",
    "V"
   ]
  },
  {
   "cell_type": "code",
   "execution_count": null,
   "metadata": {},
   "outputs": [],
   "source": [
    "M = [x for x in S if x%2 ==0]\n",
    "M"
   ]
  },
  {
   "cell_type": "markdown",
   "metadata": {},
   "source": [
    "## Tuples\n",
    "Immutable equivalent of lists "
   ]
  },
  {
   "cell_type": "code",
   "execution_count": null,
   "metadata": {},
   "outputs": [],
   "source": [
    "t = (1,2,3)\n",
    "t[1:]"
   ]
  },
  {
   "cell_type": "markdown",
   "metadata": {},
   "source": [
    "## Dictionaries\n",
    "A mutable set of key-value pairs"
   ]
  },
  {
   "cell_type": "code",
   "execution_count": null,
   "metadata": {},
   "outputs": [],
   "source": [
    "d = {0:'r',1:'g',2:'b'}\n",
    "print(d[0])\n",
    "if 3 not in d: #only insert 3 if it currently does not exist\n",
    "    d[3]='w'\n",
    "print(d)\n"
   ]
  }
 ],
 "metadata": {
  "kernelspec": {
   "display_name": "Python 3",
   "language": "python",
   "name": "python3"
  },
  "language_info": {
   "codemirror_mode": {
    "name": "ipython",
    "version": 3
   },
   "file_extension": ".py",
   "mimetype": "text/x-python",
   "name": "python",
   "nbconvert_exporter": "python",
   "pygments_lexer": "ipython3",
   "version": "3.8.8"
  }
 },
 "nbformat": 4,
 "nbformat_minor": 2
}
